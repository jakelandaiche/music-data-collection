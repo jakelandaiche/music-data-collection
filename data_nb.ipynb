{
 "cells": [
  {
   "cell_type": "code",
   "execution_count": 12,
   "metadata": {},
   "outputs": [],
   "source": [
    "import pandas as pd"
   ]
  },
  {
   "cell_type": "code",
   "execution_count": 13,
   "metadata": {},
   "outputs": [
    {
     "name": "stderr",
     "output_type": "stream",
     "text": [
      "/var/folders/bz/2gtb7d6s19l0k2sfm8sw41wm0000gn/T/ipykernel_28125/4035877836.py:1: ParserWarning: Falling back to the 'python' engine because the 'c' engine does not support regex separators (separators > 1 char and different from '\\s+' are interpreted as regex); you can avoid this warning by specifying engine='python'.\n",
      "  dataset = pd.read_csv(\"eval_segments.csv\", sep=\", \", on_bad_lines=\"skip\", skiprows=2, quotechar='\"')\n"
     ]
    }
   ],
   "source": [
    "dataset = pd.read_csv(\"eval_segments.csv\", sep=\", \", on_bad_lines=\"skip\", skiprows=2, quotechar='\"')\n",
    "label_data = pd.read_csv(\"class_labels_indices.csv\", on_bad_lines=\"skip\")"
   ]
  },
  {
   "cell_type": "code",
   "execution_count": 14,
   "metadata": {},
   "outputs": [
    {
     "data": {
      "text/html": [
       "<div>\n",
       "<style scoped>\n",
       "    .dataframe tbody tr th:only-of-type {\n",
       "        vertical-align: middle;\n",
       "    }\n",
       "\n",
       "    .dataframe tbody tr th {\n",
       "        vertical-align: top;\n",
       "    }\n",
       "\n",
       "    .dataframe thead th {\n",
       "        text-align: right;\n",
       "    }\n",
       "</style>\n",
       "<table border=\"1\" class=\"dataframe\">\n",
       "  <thead>\n",
       "    <tr style=\"text-align: right;\">\n",
       "      <th></th>\n",
       "      <th># YTID</th>\n",
       "      <th>start_seconds</th>\n",
       "      <th>end_seconds</th>\n",
       "      <th>positive_labels</th>\n",
       "      <th>index</th>\n",
       "      <th>mid</th>\n",
       "      <th>display_name</th>\n",
       "    </tr>\n",
       "  </thead>\n",
       "  <tbody>\n",
       "  </tbody>\n",
       "</table>\n",
       "</div>"
      ],
      "text/plain": [
       "Empty DataFrame\n",
       "Columns: [# YTID, start_seconds, end_seconds, positive_labels, index, mid, display_name]\n",
       "Index: []"
      ]
     },
     "execution_count": 14,
     "metadata": {},
     "output_type": "execute_result"
    }
   ],
   "source": [
    "pd.merge(dataset, label_data, \"inner\", left_on=\"positive_labels\", right_on=\"mid\", copy=True)"
   ]
  },
  {
   "cell_type": "code",
   "execution_count": 15,
   "metadata": {},
   "outputs": [
    {
     "data": {
      "text/plain": [
       "0        /m/09x0r\n",
       "1       /m/05zppz\n",
       "2        /m/02zsn\n",
       "3        /m/0ytgt\n",
       "4       /m/01h8n0\n",
       "          ...    \n",
       "522    /m/07p_0gm\n",
       "523     /m/01jwx6\n",
       "524      /m/07c52\n",
       "525      /m/06bz3\n",
       "526     /m/07hvw1\n",
       "Name: mid, Length: 527, dtype: object"
      ]
     },
     "execution_count": 15,
     "metadata": {},
     "output_type": "execute_result"
    }
   ],
   "source": [
    "label_data[\"mid\"]"
   ]
  },
  {
   "cell_type": "code",
   "execution_count": 25,
   "metadata": {},
   "outputs": [
    {
     "name": "stdout",
     "output_type": "stream",
     "text": [
      "['Domestic animals, pets', 'Squeak', 'Dog', 'Animal']\n",
      "['Hammer']\n",
      "['Cough']\n",
      "['Music', 'Speech', 'Female singing', 'Child singing']\n",
      "['Chuckle, chortle', 'Belly laugh', 'Baby laughter']\n",
      "['Music', 'Walk, footsteps', 'Speech']\n",
      "['Christmas music', 'Theme music', 'Music']\n",
      "['Keys jangling', 'Car']\n",
      "['Theme music', 'Music']\n",
      "['Horse', 'Music', 'Neigh, whinny', 'Speech', 'Animal']\n"
     ]
    }
   ],
   "source": [
    "for labels in dataset[:10][\"positive_labels\"].str.strip('\"').str.split(\",\"):\n",
    "    strings = []\n",
    "    for label in labels:\n",
    "        strings.append(label_data[label_data[\"mid\"].str.match(label)][\"display_name\"].item())\n",
    "    print(strings)"
   ]
  },
  {
   "cell_type": "code",
   "execution_count": null,
   "metadata": {},
   "outputs": [],
   "source": []
  },
  {
   "cell_type": "code",
   "execution_count": null,
   "metadata": {},
   "outputs": [],
   "source": []
  }
 ],
 "metadata": {
  "kernelspec": {
   "display_name": "base",
   "language": "python",
   "name": "python3"
  },
  "language_info": {
   "codemirror_mode": {
    "name": "ipython",
    "version": 3
   },
   "file_extension": ".py",
   "mimetype": "text/x-python",
   "name": "python",
   "nbconvert_exporter": "python",
   "pygments_lexer": "ipython3",
   "version": "3.10.12"
  }
 },
 "nbformat": 4,
 "nbformat_minor": 2
}
